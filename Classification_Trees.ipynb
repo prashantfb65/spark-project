{
 "cells": [
  {
   "cell_type": "code",
   "execution_count": 72,
   "metadata": {},
   "outputs": [],
   "source": [
    "from pyspark.sql import SparkSession"
   ]
  },
  {
   "cell_type": "code",
   "execution_count": 73,
   "metadata": {},
   "outputs": [],
   "source": [
    "spark = SparkSession.builder.appName('ClsTree').getOrCreate()"
   ]
  },
  {
   "cell_type": "code",
   "execution_count": 74,
   "metadata": {},
   "outputs": [],
   "source": [
    "import os"
   ]
  },
  {
   "cell_type": "code",
   "execution_count": 75,
   "metadata": {},
   "outputs": [],
   "source": [
    "college_data_file = os.path.join(os.path.curdir, 'data', 'College.csv')"
   ]
  },
  {
   "cell_type": "code",
   "execution_count": 76,
   "metadata": {},
   "outputs": [],
   "source": [
    "college_data = spark.read.csv(college_data_file,\n",
    "              inferSchema=True,\n",
    "              header=True)"
   ]
  },
  {
   "cell_type": "code",
   "execution_count": 77,
   "metadata": {},
   "outputs": [
    {
     "name": "stdout",
     "output_type": "stream",
     "text": [
      "root\n",
      " |-- School: string (nullable = true)\n",
      " |-- Private: string (nullable = true)\n",
      " |-- Apps: integer (nullable = true)\n",
      " |-- Accept: integer (nullable = true)\n",
      " |-- Enroll: integer (nullable = true)\n",
      " |-- Top10perc: integer (nullable = true)\n",
      " |-- Top25perc: integer (nullable = true)\n",
      " |-- F_Undergrad: integer (nullable = true)\n",
      " |-- P_Undergrad: integer (nullable = true)\n",
      " |-- Outstate: integer (nullable = true)\n",
      " |-- Room_Board: integer (nullable = true)\n",
      " |-- Books: integer (nullable = true)\n",
      " |-- Personal: integer (nullable = true)\n",
      " |-- PhD: integer (nullable = true)\n",
      " |-- Terminal: integer (nullable = true)\n",
      " |-- S_F_Ratio: double (nullable = true)\n",
      " |-- perc_alumni: integer (nullable = true)\n",
      " |-- Expend: integer (nullable = true)\n",
      " |-- Grad_Rate: integer (nullable = true)\n",
      "\n"
     ]
    }
   ],
   "source": [
    "college_data.printSchema()"
   ]
  },
  {
   "cell_type": "code",
   "execution_count": 78,
   "metadata": {},
   "outputs": [
    {
     "data": {
      "text/plain": [
       "777"
      ]
     },
     "execution_count": 78,
     "metadata": {},
     "output_type": "execute_result"
    }
   ],
   "source": [
    "college_data.count()"
   ]
  },
  {
   "cell_type": "code",
   "execution_count": 79,
   "metadata": {},
   "outputs": [
    {
     "data": {
      "text/plain": [
       "{'School': 'Abilene Christian University',\n",
       " 'Private': 'Yes',\n",
       " 'Apps': 1660,\n",
       " 'Accept': 1232,\n",
       " 'Enroll': 721,\n",
       " 'Top10perc': 23,\n",
       " 'Top25perc': 52,\n",
       " 'F_Undergrad': 2885,\n",
       " 'P_Undergrad': 537,\n",
       " 'Outstate': 7440,\n",
       " 'Room_Board': 3300,\n",
       " 'Books': 450,\n",
       " 'Personal': 2200,\n",
       " 'PhD': 70,\n",
       " 'Terminal': 78,\n",
       " 'S_F_Ratio': 18.1,\n",
       " 'perc_alumni': 12,\n",
       " 'Expend': 7041,\n",
       " 'Grad_Rate': 60}"
      ]
     },
     "execution_count": 79,
     "metadata": {},
     "output_type": "execute_result"
    }
   ],
   "source": [
    "college_data.head().asDict()"
   ]
  },
  {
   "cell_type": "code",
   "execution_count": 80,
   "metadata": {},
   "outputs": [
    {
     "data": {
      "text/plain": [
       "['School',\n",
       " 'Private',\n",
       " 'Apps',\n",
       " 'Accept',\n",
       " 'Enroll',\n",
       " 'Top10perc',\n",
       " 'Top25perc',\n",
       " 'F_Undergrad',\n",
       " 'P_Undergrad',\n",
       " 'Outstate',\n",
       " 'Room_Board',\n",
       " 'Books',\n",
       " 'Personal',\n",
       " 'PhD',\n",
       " 'Terminal',\n",
       " 'S_F_Ratio',\n",
       " 'perc_alumni',\n",
       " 'Expend',\n",
       " 'Grad_Rate']"
      ]
     },
     "execution_count": 80,
     "metadata": {},
     "output_type": "execute_result"
    }
   ],
   "source": [
    "college_data.columns"
   ]
  },
  {
   "cell_type": "code",
   "execution_count": 81,
   "metadata": {},
   "outputs": [],
   "source": [
    "from pyspark.ml.feature import VectorAssembler\n",
    "from pyspark.ml.feature import StringIndexer\n",
    "from pyspark.ml import pipeline"
   ]
  },
  {
   "cell_type": "code",
   "execution_count": 82,
   "metadata": {},
   "outputs": [],
   "source": [
    "assembler = VectorAssembler(inputCols=[\n",
    "    'Apps',\n",
    "     'Accept',\n",
    "     'Enroll',\n",
    "     'Top10perc',\n",
    "     'Top25perc',\n",
    "     'F_Undergrad',\n",
    "     'P_Undergrad',\n",
    "     'Outstate',\n",
    "     'Room_Board',\n",
    "     'Books',\n",
    "     'Personal',\n",
    "     'PhD',\n",
    "     'Terminal',\n",
    "     'S_F_Ratio',\n",
    "     'perc_alumni',\n",
    "     'Expend',\n",
    "     'Grad_Rate'], outputCol='features')"
   ]
  },
  {
   "cell_type": "code",
   "execution_count": 83,
   "metadata": {},
   "outputs": [],
   "source": [
    "indexer = StringIndexer(inputCol='Private', outputCol='PrivateIndex')"
   ]
  },
  {
   "cell_type": "code",
   "execution_count": 84,
   "metadata": {},
   "outputs": [],
   "source": [
    "data = indexer.fit(college_data).transform(college_data)"
   ]
  },
  {
   "cell_type": "code",
   "execution_count": 85,
   "metadata": {},
   "outputs": [
    {
     "data": {
      "text/plain": [
       "{'School': 'Abilene Christian University',\n",
       " 'Private': 'Yes',\n",
       " 'Apps': 1660,\n",
       " 'Accept': 1232,\n",
       " 'Enroll': 721,\n",
       " 'Top10perc': 23,\n",
       " 'Top25perc': 52,\n",
       " 'F_Undergrad': 2885,\n",
       " 'P_Undergrad': 537,\n",
       " 'Outstate': 7440,\n",
       " 'Room_Board': 3300,\n",
       " 'Books': 450,\n",
       " 'Personal': 2200,\n",
       " 'PhD': 70,\n",
       " 'Terminal': 78,\n",
       " 'S_F_Ratio': 18.1,\n",
       " 'perc_alumni': 12,\n",
       " 'Expend': 7041,\n",
       " 'Grad_Rate': 60,\n",
       " 'PrivateIndex': 0.0}"
      ]
     },
     "execution_count": 85,
     "metadata": {},
     "output_type": "execute_result"
    }
   ],
   "source": [
    "data.head().asDict()"
   ]
  },
  {
   "cell_type": "code",
   "execution_count": 86,
   "metadata": {},
   "outputs": [],
   "source": [
    "transformed_data = assembler.transform(data)"
   ]
  },
  {
   "cell_type": "code",
   "execution_count": 87,
   "metadata": {},
   "outputs": [
    {
     "data": {
      "text/plain": [
       "{'School': 'Abilene Christian University',\n",
       " 'Private': 'Yes',\n",
       " 'Apps': 1660,\n",
       " 'Accept': 1232,\n",
       " 'Enroll': 721,\n",
       " 'Top10perc': 23,\n",
       " 'Top25perc': 52,\n",
       " 'F_Undergrad': 2885,\n",
       " 'P_Undergrad': 537,\n",
       " 'Outstate': 7440,\n",
       " 'Room_Board': 3300,\n",
       " 'Books': 450,\n",
       " 'Personal': 2200,\n",
       " 'PhD': 70,\n",
       " 'Terminal': 78,\n",
       " 'S_F_Ratio': 18.1,\n",
       " 'perc_alumni': 12,\n",
       " 'Expend': 7041,\n",
       " 'Grad_Rate': 60,\n",
       " 'PrivateIndex': 0.0,\n",
       " 'features': DenseVector([1660.0, 1232.0, 721.0, 23.0, 52.0, 2885.0, 537.0, 7440.0, 3300.0, 450.0, 2200.0, 70.0, 78.0, 18.1, 12.0, 7041.0, 60.0])}"
      ]
     },
     "execution_count": 87,
     "metadata": {},
     "output_type": "execute_result"
    }
   ],
   "source": [
    "transformed_data.head().asDict()"
   ]
  },
  {
   "cell_type": "code",
   "execution_count": 88,
   "metadata": {},
   "outputs": [],
   "source": [
    "final_data = transformed_data.select(['features', 'PrivateIndex'])"
   ]
  },
  {
   "cell_type": "code",
   "execution_count": 89,
   "metadata": {},
   "outputs": [
    {
     "data": {
      "text/plain": [
       "Row(features=DenseVector([1660.0, 1232.0, 721.0, 23.0, 52.0, 2885.0, 537.0, 7440.0, 3300.0, 450.0, 2200.0, 70.0, 78.0, 18.1, 12.0, 7041.0, 60.0]), PrivateIndex=0.0)"
      ]
     },
     "execution_count": 89,
     "metadata": {},
     "output_type": "execute_result"
    }
   ],
   "source": [
    "final_data.head()"
   ]
  },
  {
   "cell_type": "code",
   "execution_count": 90,
   "metadata": {},
   "outputs": [],
   "source": [
    "training_data, testing_data = final_data.randomSplit([0.70, 0.3])"
   ]
  },
  {
   "cell_type": "code",
   "execution_count": 91,
   "metadata": {},
   "outputs": [],
   "source": [
    "from pyspark.ml.classification import (DecisionTreeClassifier,\n",
    "                                      RandomForestClassifier,\n",
    "                                      GBTClassifier)"
   ]
  },
  {
   "cell_type": "code",
   "execution_count": 92,
   "metadata": {},
   "outputs": [],
   "source": [
    "d_classifier = DecisionTreeClassifier(labelCol='PrivateIndex', featuresCol='features')\n",
    "rf_classifier = RandomForestClassifier(numTrees=40,\n",
    "                                      labelCol='PrivateIndex', featuresCol='features')\n",
    "gb_classifier = GBTClassifier(labelCol='PrivateIndex', featuresCol='features')"
   ]
  },
  {
   "cell_type": "code",
   "execution_count": 93,
   "metadata": {},
   "outputs": [],
   "source": [
    "d_model = d_classifier.fit(final_data)\n",
    "rf_model = rf_classifier.fit(final_data)\n",
    "gb_model = gb_classifier.fit(final_data)"
   ]
  },
  {
   "cell_type": "code",
   "execution_count": 94,
   "metadata": {},
   "outputs": [],
   "source": [
    "d_preds = d_model.transform(testing_data)\n",
    "rf_preds = rf_model.transform(testing_data)\n",
    "gb_preds = gb_model.transform(testing_data)"
   ]
  },
  {
   "cell_type": "code",
   "execution_count": 95,
   "metadata": {},
   "outputs": [],
   "source": [
    "from pyspark.ml.evaluation import BinaryClassificationEvaluator"
   ]
  },
  {
   "cell_type": "code",
   "execution_count": 96,
   "metadata": {},
   "outputs": [],
   "source": [
    "my_binary_eval = BinaryClassificationEvaluator(labelCol = 'PrivateIndex')"
   ]
  },
  {
   "cell_type": "code",
   "execution_count": 97,
   "metadata": {},
   "outputs": [
    {
     "name": "stdout",
     "output_type": "stream",
     "text": [
      "Decision Tree performance\n",
      "0.9858315677966102\n"
     ]
    }
   ],
   "source": [
    "print('Decision Tree performance')\n",
    "print(my_binary_eval.evaluate(d_preds))"
   ]
  },
  {
   "cell_type": "code",
   "execution_count": 98,
   "metadata": {},
   "outputs": [
    {
     "name": "stdout",
     "output_type": "stream",
     "text": [
      "Random Forest performance\n",
      "0.9939088983050848\n"
     ]
    }
   ],
   "source": [
    "print('Random Forest performance')\n",
    "print(my_binary_eval.evaluate(rf_preds))"
   ]
  },
  {
   "cell_type": "code",
   "execution_count": 99,
   "metadata": {},
   "outputs": [],
   "source": [
    "my_binary_eval_gb = BinaryClassificationEvaluator(labelCol = 'PrivateIndex',\n",
    "                                                 rawPredictionCol='prediction')"
   ]
  },
  {
   "cell_type": "code",
   "execution_count": 100,
   "metadata": {},
   "outputs": [
    {
     "name": "stdout",
     "output_type": "stream",
     "text": [
      "Gradient Boosting performance\n",
      "0.9971751412429379\n"
     ]
    }
   ],
   "source": [
    "print('Gradient Boosting performance')\n",
    "print(my_binary_eval_gb.evaluate(gb_preds))"
   ]
  },
  {
   "cell_type": "code",
   "execution_count": 102,
   "metadata": {},
   "outputs": [],
   "source": [
    "from pyspark.ml.evaluation import MulticlassClassificationEvaluator"
   ]
  },
  {
   "cell_type": "code",
   "execution_count": 103,
   "metadata": {},
   "outputs": [],
   "source": [
    "acc_eval = MulticlassClassificationEvaluator(labelCol='PrivateIndex',\n",
    "                                            metricName='accuracy')"
   ]
  },
  {
   "cell_type": "code",
   "execution_count": 104,
   "metadata": {},
   "outputs": [
    {
     "name": "stdout",
     "output_type": "stream",
     "text": [
      "0.966804979253112\n"
     ]
    }
   ],
   "source": [
    "print(acc_eval.evaluate(rf_preds))"
   ]
  },
  {
   "cell_type": "code",
   "execution_count": null,
   "metadata": {},
   "outputs": [],
   "source": []
  }
 ],
 "metadata": {
  "kernelspec": {
   "display_name": "Python 3",
   "language": "python",
   "name": "python3"
  },
  "language_info": {
   "codemirror_mode": {
    "name": "ipython",
    "version": 3
   },
   "file_extension": ".py",
   "mimetype": "text/x-python",
   "name": "python",
   "nbconvert_exporter": "python",
   "pygments_lexer": "ipython3",
   "version": "3.7.6"
  }
 },
 "nbformat": 4,
 "nbformat_minor": 4
}
